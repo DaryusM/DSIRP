{
 "cells": [
  {
   "cell_type": "markdown",
   "metadata": {},
   "source": [
    "# Priority Queues and Heaps"
   ]
  },
  {
   "cell_type": "markdown",
   "metadata": {},
   "source": [
    "[Click here to run this chapter on Colab](https://colab.research.google.com/github/AllenDowney/DSIRP/blob/main/notebooks/heap.ipynb)"
   ]
  },
  {
   "cell_type": "markdown",
   "metadata": {},
   "source": [
    "## The `heapq` module\n",
    "\n",
    "The `heapq` module provides functions for adding and removing elements to and from a heap.\n",
    "\n"
   ]
  },
  {
   "cell_type": "code",
   "execution_count": 61,
   "metadata": {},
   "outputs": [],
   "source": [
    "from heapq import heappush, heappop"
   ]
  },
  {
   "cell_type": "markdown",
   "metadata": {},
   "source": [
    "The heap itself is literally a list, so if you create an empty list, you can think of it as a heap with no elements."
   ]
  },
  {
   "cell_type": "code",
   "execution_count": 60,
   "metadata": {},
   "outputs": [],
   "source": [
    "heap = []"
   ]
  },
  {
   "cell_type": "markdown",
   "metadata": {},
   "source": [
    "Then you can use `heappush` to add one element at a time."
   ]
  },
  {
   "cell_type": "code",
   "execution_count": 62,
   "metadata": {},
   "outputs": [
    {
     "data": {
      "text/plain": [
       "[1, 2, 3, 5, 7, 4, 6, 9, 8]"
      ]
     },
     "execution_count": 62,
     "metadata": {},
     "output_type": "execute_result"
    }
   ],
   "source": [
    "data = [4, 9, 3, 7, 5, 1, 6, 8, 2]\n",
    "\n",
    "for x in data:\n",
    "    heappush(heap, x)\n",
    "    \n",
    "heap"
   ]
  },
  {
   "cell_type": "markdown",
   "metadata": {},
   "source": [
    "The result is a list that represents a tree.\n",
    "Here's how the correspondence works between the list representation and the tree representation:\n",
    "\n",
    "* The first element (index 0) is the root.\n",
    "\n",
    "* The next two elements are the children of the root.\n",
    "\n",
    "* The next four element are the grandchildren of the root.\n",
    "\n",
    "And so on."
   ]
  },
  {
   "cell_type": "markdown",
   "metadata": {},
   "source": [
    "In general, if the index of an element is `i`, its parent is `(i-1)//2` and its children are `2*i + 1` and `2*i + 2`."
   ]
  },
  {
   "cell_type": "markdown",
   "metadata": {},
   "source": [
    "## Drawing the Tree\n",
    "\n",
    "To generate the tree representation of the heap, the following function iterates through the heap and makes a NetworkX graph with an edge between each node and its parent."
   ]
  },
  {
   "cell_type": "code",
   "execution_count": 63,
   "metadata": {},
   "outputs": [
    {
     "ename": "ModuleNotFoundError",
     "evalue": "No module named 'networkx'",
     "output_type": "error",
     "traceback": [
      "\u001b[0;31m---------------------------------------------------------------------------\u001b[0m",
      "\u001b[0;31mModuleNotFoundError\u001b[0m                       Traceback (most recent call last)",
      "Cell \u001b[0;32mIn [63], line 1\u001b[0m\n\u001b[0;32m----> 1\u001b[0m \u001b[38;5;28;01mimport\u001b[39;00m \u001b[38;5;21;01mnetworkx\u001b[39;00m \u001b[38;5;28;01mas\u001b[39;00m \u001b[38;5;21;01mnx\u001b[39;00m\n\u001b[1;32m      3\u001b[0m \u001b[38;5;28;01mdef\u001b[39;00m \u001b[38;5;21mmake_dag\u001b[39m(heap):\n\u001b[1;32m      4\u001b[0m     \u001b[38;5;124;03m\"\"\"Make a NetworkX graph that represents the heap.\"\"\"\u001b[39;00m\n",
      "\u001b[0;31mModuleNotFoundError\u001b[0m: No module named 'networkx'"
     ]
    }
   ],
   "source": [
    "import networkx as nx\n",
    "\n",
    "def make_dag(heap):\n",
    "    \"\"\"Make a NetworkX graph that represents the heap.\"\"\"\n",
    "    G = nx.DiGraph()\n",
    "    \n",
    "    for i in range(1, len(heap)):\n",
    "        parent = (i-1)//2\n",
    "        G.add_edge(parent, i)\n",
    "    \n",
    "    return G"
   ]
  },
  {
   "cell_type": "code",
   "execution_count": 2,
   "metadata": {},
   "outputs": [
    {
     "ename": "NameError",
     "evalue": "name 'make_dag' is not defined",
     "output_type": "error",
     "traceback": [
      "\u001b[0;31m---------------------------------------------------------------------------\u001b[0m",
      "\u001b[0;31mNameError\u001b[0m                                 Traceback (most recent call last)",
      "Cell \u001b[0;32mIn [2], line 1\u001b[0m\n\u001b[0;32m----> 1\u001b[0m G \u001b[38;5;241m=\u001b[39m \u001b[43mmake_dag\u001b[49m(heap)\n",
      "\u001b[0;31mNameError\u001b[0m: name 'make_dag' is not defined"
     ]
    }
   ],
   "source": [
    "G = make_dag(heap)"
   ]
  },
  {
   "cell_type": "markdown",
   "metadata": {},
   "source": [
    "To draw the tree, we'll use a module called `EoN` that provides a function called [hierarchy_pos](https://epidemicsonnetworks.readthedocs.io/en/latest/functions/EoN.hierarchy_pos.html#EoN.hierarchy_pos).\n",
    "\n",
    "It takes as a parameter a NetworkX graph that represents a tree, and it returns a dictionary that maps from each node to a position in the Cartesian plane.\n",
    "If we pass this dictionary to `nx.draw`, it lays the tree out accordingly."
   ]
  },
  {
   "cell_type": "code",
   "execution_count": 64,
   "metadata": {},
   "outputs": [
    {
     "name": "stdout",
     "output_type": "stream",
     "text": [
      "zsh:1: command not found: pip\n"
     ]
    }
   ],
   "source": [
    "try:\n",
    "    import EoN\n",
    "except ImportError:\n",
    "    !pip install EoN"
   ]
  },
  {
   "cell_type": "code",
   "execution_count": 119,
   "metadata": {},
   "outputs": [
    {
     "ename": "ModuleNotFoundError",
     "evalue": "No module named 'EoN'",
     "output_type": "error",
     "traceback": [
      "\u001b[0;31m---------------------------------------------------------------------------\u001b[0m",
      "\u001b[0;31mModuleNotFoundError\u001b[0m                       Traceback (most recent call last)",
      "Cell \u001b[0;32mIn [119], line 1\u001b[0m\n\u001b[0;32m----> 1\u001b[0m \u001b[38;5;28;01mfrom\u001b[39;00m \u001b[38;5;21;01mEoN\u001b[39;00m \u001b[38;5;28;01mimport\u001b[39;00m hierarchy_pos\n\u001b[1;32m      3\u001b[0m \u001b[38;5;28;01mdef\u001b[39;00m \u001b[38;5;21mdraw_heap\u001b[39m(heap):\n\u001b[1;32m      4\u001b[0m     G \u001b[38;5;241m=\u001b[39m make_dag(heap)\n",
      "\u001b[0;31mModuleNotFoundError\u001b[0m: No module named 'EoN'"
     ]
    }
   ],
   "source": [
    "from EoN import hierarchy_pos\n",
    "\n",
    "def draw_heap(heap):\n",
    "    G = make_dag(heap)\n",
    "    pos = hierarchy_pos(G)\n",
    "    labels = dict(enumerate(heap))\n",
    "    nx.draw(G, pos, labels=labels, alpha=0.4)"
   ]
  },
  {
   "cell_type": "markdown",
   "metadata": {},
   "source": [
    "Here's what the tree representation looks like."
   ]
  },
  {
   "cell_type": "code",
   "execution_count": 54,
   "metadata": {},
   "outputs": [
    {
     "ename": "NameError",
     "evalue": "name 'heap' is not defined",
     "output_type": "error",
     "traceback": [
      "\u001b[0;31m---------------------------------------------------------------------------\u001b[0m",
      "\u001b[0;31mNameError\u001b[0m                                 Traceback (most recent call last)",
      "Cell \u001b[0;32mIn [54], line 1\u001b[0m\n\u001b[0;32m----> 1\u001b[0m \u001b[38;5;28mprint\u001b[39m(\u001b[43mheap\u001b[49m)\n\u001b[1;32m      2\u001b[0m draw_heap(heap)\n",
      "\u001b[0;31mNameError\u001b[0m: name 'heap' is not defined"
     ]
    }
   ],
   "source": [
    "print(heap)\n",
    "draw_heap(heap)"
   ]
  },
  {
   "cell_type": "markdown",
   "metadata": {},
   "source": [
    "## The Heap Property\n",
    "\n",
    "If the list is a heap, the tree should have the heap property: \n",
    "\n",
    "> Every parent is less than or equal to its children.\n",
    "\n",
    "Or more formally:\n",
    "\n",
    "> For all pairs of nodes P and C, where P is the parent of C, the value of P must be less than or equal to the value of C.\n",
    "\n",
    "The following function checks whether this property is true for all nodes."
   ]
  },
  {
   "cell_type": "code",
   "execution_count": 65,
   "metadata": {},
   "outputs": [],
   "source": [
    "def is_heap(heap):\n",
    "    \"\"\"Check if a sequence has the heap property.\n",
    "    \n",
    "    Every child should be >= its parent.\n",
    "    \"\"\"\n",
    "    for i in range(1, len(heap)):\n",
    "        parent = (i-1) // 2\n",
    "        if heap[parent] > heap[i]:\n",
    "            return False\n",
    "    return True"
   ]
  },
  {
   "cell_type": "markdown",
   "metadata": {},
   "source": [
    "As we might hope, `heap` is a heap."
   ]
  },
  {
   "cell_type": "code",
   "execution_count": 66,
   "metadata": {},
   "outputs": [
    {
     "data": {
      "text/plain": [
       "True"
      ]
     },
     "execution_count": 66,
     "metadata": {},
     "output_type": "execute_result"
    }
   ],
   "source": [
    "is_heap(heap)"
   ]
  },
  {
   "cell_type": "markdown",
   "metadata": {},
   "source": [
    "Here's a list of integers in no particular order, and as you might expect, it does not have the heap property."
   ]
  },
  {
   "cell_type": "code",
   "execution_count": 67,
   "metadata": {},
   "outputs": [
    {
     "data": {
      "text/plain": [
       "False"
      ]
     },
     "execution_count": 67,
     "metadata": {},
     "output_type": "execute_result"
    }
   ],
   "source": [
    "data = [4, 9, 3, 7, 5, 1, 6, 8, 2]\n",
    "is_heap(data)"
   ]
  },
  {
   "cell_type": "markdown",
   "metadata": {},
   "source": [
    "## Using a Heap to Sort\n",
    "\n",
    "Given a heap, we can implement a sort algorithm called [heapsort](https://en.wikipedia.org/wiki/Heapsort). \n",
    "\n",
    "Let's start again with a fresh heap:"
   ]
  },
  {
   "cell_type": "code",
   "execution_count": 68,
   "metadata": {},
   "outputs": [],
   "source": [
    "heap = []\n",
    "for x in data:\n",
    "    heappush(heap, x)"
   ]
  },
  {
   "cell_type": "markdown",
   "metadata": {},
   "source": [
    "If we know that a list is a heap, we can use `heappop` to find and remove the smallest element."
   ]
  },
  {
   "cell_type": "code",
   "execution_count": 69,
   "metadata": {},
   "outputs": [
    {
     "data": {
      "text/plain": [
       "1"
      ]
     },
     "execution_count": 69,
     "metadata": {},
     "output_type": "execute_result"
    }
   ],
   "source": [
    "heappop(heap)"
   ]
  },
  {
   "cell_type": "markdown",
   "metadata": {},
   "source": [
    "`heappop` rearranges the remaining elements of the list to restore the heap property (we'll see how soon). "
   ]
  },
  {
   "cell_type": "code",
   "execution_count": 70,
   "metadata": {},
   "outputs": [
    {
     "data": {
      "text/plain": [
       "[2, 5, 3, 8, 7, 4, 6, 9]"
      ]
     },
     "execution_count": 70,
     "metadata": {},
     "output_type": "execute_result"
    }
   ],
   "source": [
    "heap"
   ]
  },
  {
   "cell_type": "code",
   "execution_count": 71,
   "metadata": {},
   "outputs": [
    {
     "data": {
      "text/plain": [
       "True"
      ]
     },
     "execution_count": 71,
     "metadata": {},
     "output_type": "execute_result"
    }
   ],
   "source": [
    "is_heap(heap)"
   ]
  },
  {
   "cell_type": "markdown",
   "metadata": {},
   "source": [
    "And that means we can use `heappop` again to get the second smallest element (of the original heap):"
   ]
  },
  {
   "cell_type": "code",
   "execution_count": 72,
   "metadata": {},
   "outputs": [
    {
     "data": {
      "text/plain": [
       "2"
      ]
     },
     "execution_count": 72,
     "metadata": {},
     "output_type": "execute_result"
    }
   ],
   "source": [
    "heappop(heap)"
   ]
  },
  {
   "cell_type": "markdown",
   "metadata": {},
   "source": [
    "Which means we can use a heap to sort a list."
   ]
  },
  {
   "cell_type": "markdown",
   "metadata": {},
   "source": [
    "**Exercise:** Write a generator function called `heapsort` that takes an iterable and yields the elements of the iterable in increasing order. "
   ]
  },
  {
   "cell_type": "code",
   "execution_count": 73,
   "metadata": {},
   "outputs": [],
   "source": [
    "\n",
    "def heapsort(theList):\n",
    "    newlist= []\n",
    "    for item in theList:\n",
    "        newlist.append(item)\n",
    "        newlist.sort()\n",
    "    list1 = newlist\n",
    "    yield list1 "
   ]
  },
  {
   "cell_type": "code",
   "execution_count": 74,
   "metadata": {},
   "outputs": [],
   "source": [
    "list1=[5,3,7,3,2,4]"
   ]
  },
  {
   "cell_type": "code",
   "execution_count": 75,
   "metadata": {},
   "outputs": [
    {
     "name": "stdout",
     "output_type": "stream",
     "text": [
      "[2, 3, 3, 4, 5, 7]\n"
     ]
    }
   ],
   "source": [
    "for item in heapsort(list1):\n",
    "    print(item)\n"
   ]
  },
  {
   "cell_type": "code",
   "execution_count": 20,
   "metadata": {},
   "outputs": [],
   "source": []
  },
  {
   "cell_type": "markdown",
   "metadata": {},
   "source": [
    "Now let's see how a heap is implemented.\n",
    "The two key methods are `push` and `pop`."
   ]
  },
  {
   "cell_type": "markdown",
   "metadata": {},
   "source": [
    "## Push\n",
    "\n",
    "To insert an element in a heap, you start by appending it to the list.\n",
    "\n",
    "The result is generally not a heap, so you have to do some work to restore the heap property:\n",
    "\n",
    "* If the new element is greater than or equal to its parent, you are done.\n",
    "\n",
    "* Otherwise swap the new element with its parent.\n",
    "\n",
    "* If the new element is greater than or equal to the parent's parent, you are done.\n",
    "\n",
    "* Otherwise swap the new element with its parent's parent.\n",
    "\n",
    "* And repeat, working your way up the tree, until you're done or you reach the root."
   ]
  },
  {
   "cell_type": "markdown",
   "metadata": {},
   "source": [
    "This process is called \"sift-up\" or sometimes [swim](https://en.wikipedia.org/wiki/Heap_(data_structure)#Implementation)."
   ]
  },
  {
   "cell_type": "markdown",
   "metadata": {},
   "source": [
    "**Exercise:** Write a function called `push` that does the same thing as `heappush`: it should take as parameters a list (which should be a heap) and a new element; it should add the new element to the list and restore the heap property."
   ]
  },
  {
   "cell_type": "code",
   "execution_count": 25,
   "metadata": {},
   "outputs": [],
   "source": [
    "data3 = [1,2,4,5,6]"
   ]
  },
  {
   "cell_type": "code",
   "execution_count": 26,
   "metadata": {},
   "outputs": [],
   "source": [
    "def tree(data3):\n",
    "    lownum = data[0]\n",
    "    lownumfound = False\n",
    "    if lownumfound == False:\n",
    "        for number in data3:\n",
    "            if number < lownum:\n",
    "                lownum = number\n",
    "                lownumfound = True\n",
    "                return lownum\n",
    "    \n",
    "                \n",
    "        "
   ]
  },
  {
   "cell_type": "code",
   "execution_count": 78,
   "metadata": {},
   "outputs": [
    {
     "data": {
      "text/plain": [
       "2"
      ]
     },
     "execution_count": 78,
     "metadata": {},
     "output_type": "execute_result"
    }
   ],
   "source": [
    "tree(data3)"
   ]
  },
  {
   "cell_type": "code",
   "execution_count": 45,
   "metadata": {},
   "outputs": [],
   "source": [
    "daheap = [1,3,6,5,9,8]"
   ]
  },
  {
   "cell_type": "code",
   "execution_count": 46,
   "metadata": {},
   "outputs": [],
   "source": [
    "newnum = 2"
   ]
  },
  {
   "cell_type": "code",
   "execution_count": 86,
   "metadata": {},
   "outputs": [],
   "source": [
    "heap2 = [3, 4, 7, 6, 9, 8, 10]"
   ]
  },
  {
   "cell_type": "code",
   "execution_count": 89,
   "metadata": {},
   "outputs": [],
   "source": [
    "def push(heap2, number):\n",
    "    heap2.append(number)\n",
    "    child_index = len(heap2) - 1\n",
    "    parent_index = (child_index - 1) // 2\n",
    "    while child_index > 0 and heap2[child_index] < heap2[parent_index]:\n",
    "        heap2[child_index], heap2[parent_index] = heap2[parent_index], heap2[child_index]\n",
    "        child_index, parent_index = parent_index, (parent_index - 1) // 2\n"
   ]
  },
  {
   "cell_type": "code",
   "execution_count": 88,
   "metadata": {},
   "outputs": [
    {
     "name": "stdout",
     "output_type": "stream",
     "text": [
      "[3, 4, 7, 5, 9, 8, 10, 6]\n"
     ]
    }
   ],
   "source": [
    "push(heap2, 5)\n",
    "print (heap2)"
   ]
  },
  {
   "cell_type": "markdown",
   "metadata": {},
   "source": [
    "You can use this example to test your code:"
   ]
  },
  {
   "cell_type": "code",
   "execution_count": 238,
   "metadata": {},
   "outputs": [
    {
     "data": {
      "text/plain": [
       "[1, 2, 3, 5, 7, 4, 6, 9, 8]"
      ]
     },
     "execution_count": 238,
     "metadata": {},
     "output_type": "execute_result"
    }
   ],
   "source": [
    "heap = []\n",
    "for x in data:\n",
    "    heappush(heap, x)\n",
    "    assert is_heap(heap)\n",
    "\n",
    "heap"
   ]
  },
  {
   "cell_type": "code",
   "execution_count": 235,
   "metadata": {},
   "outputs": [
    {
     "data": {
      "text/plain": [
       "True"
      ]
     },
     "execution_count": 235,
     "metadata": {},
     "output_type": "execute_result"
    }
   ],
   "source": [
    "is_heap(heap)"
   ]
  },
  {
   "cell_type": "code",
   "execution_count": null,
   "metadata": {},
   "outputs": [],
   "source": []
  },
  {
   "cell_type": "markdown",
   "metadata": {},
   "source": [
    "## Pop\n",
    "\n",
    "To remove an element from the heap, you:\n",
    "\n",
    "* Make a copy of the root element,\n",
    "\n",
    "* Pop the *last* element off the list and store it at the root.\n",
    "\n",
    "* Then you have to restore the heap property. If the new root is less than or equal to both of its children, you are done.\n",
    "\n",
    "* Otherwise, swap the parent with the smaller of its children.\n",
    "\n",
    "* Then repeat the process with the child you just replaced, and continue until you get to a leaf node.\n",
    "\n",
    "This process is called a \"sift-down\" or sometimes \"sink\"."
   ]
  },
  {
   "cell_type": "markdown",
   "metadata": {},
   "source": [
    "**Exercise:** Write a function called `pop` that does the same thing as `heappop`: it should remove the smallest element, restore the heap property, and return the smallest element.\n",
    "\n",
    "Hint: This one is tricky because you have to deal with several special cases."
   ]
  },
  {
   "cell_type": "code",
   "execution_count": 97,
   "metadata": {},
   "outputs": [],
   "source": [
    "heap3 = [1,2,3,4,5]"
   ]
  },
  {
   "cell_type": "code",
   "execution_count": 91,
   "metadata": {},
   "outputs": [],
   "source": [
    "def pop(heap3):\n",
    "    if len(heap3) == 0:\n",
    "        raise IndexError(\"pop from empty heap\")\n",
    "    elif len(heap3) == 1:\n",
    "        return heap3.pop()\n",
    "\n",
    "    root = heap3[0]\n",
    "    heap3[0] = heap3.pop()\n",
    "    parent_index = 0\n",
    "\n",
    "    while True:\n",
    "        left_child_index = 2 * parent_index + 1\n",
    "        right_child_index = 2 * parent_index + 2\n",
    "\n",
    "        if left_child_index >= len(heap3):\n",
    "            break\n",
    "\n",
    "        if right_child_index >= len(heap3):\n",
    "            if heap3[left_child_index] < heap3[parent_index]:\n",
    "                heap3[left_child_index], heap3[parent_index] = heap3[parent_index], heap3[left_child_index]\n",
    "            break\n",
    "\n",
    "        if heap3[left_child_index] < heap3[right_child_index]:\n",
    "            child_index = left_child_index\n",
    "        else:\n",
    "            child_index = right_child_index\n",
    "\n",
    "        if heap3[child_index] < heap3[parent_index]:\n",
    "            heap3[child_index], heap3[parent_index] = heap3[parent_index], heap3[child_index]\n",
    "            parent_index = child_index\n",
    "        else:\n",
    "            break\n",
    "\n",
    "    return root\n",
    "    \n",
    "    "
   ]
  },
  {
   "cell_type": "code",
   "execution_count": 98,
   "metadata": {},
   "outputs": [
    {
     "name": "stdout",
     "output_type": "stream",
     "text": [
      "1\n",
      "[2, 4, 3, 5]\n"
     ]
    }
   ],
   "source": [
    "print(heap3[0])\n",
    "pop(heap3)\n",
    "print(heap3)"
   ]
  },
  {
   "cell_type": "code",
   "execution_count": null,
   "metadata": {},
   "outputs": [],
   "source": [
    "heap = []\n",
    "for x in data:\n",
    "    heappush(heap, x)\n",
    "\n",
    "while heap:\n",
    "    print(pop(heap))\n",
    "    assert is_heap(heap)"
   ]
  },
  {
   "cell_type": "markdown",
   "metadata": {},
   "source": [
    "*Data Structures and Information Retrieval in Python*\n",
    "\n",
    "Copyright 2021 Allen Downey\n",
    "\n",
    "License: [Creative Commons Attribution-NonCommercial-ShareAlike 4.0 International](https://creativecommons.org/licenses/by-nc-sa/4.0/)"
   ]
  }
 ],
 "metadata": {
  "kernelspec": {
   "display_name": "Python 3.9.6 64-bit",
   "language": "python",
   "name": "python3"
  },
  "language_info": {
   "codemirror_mode": {
    "name": "ipython",
    "version": 3
   },
   "file_extension": ".py",
   "mimetype": "text/x-python",
   "name": "python",
   "nbconvert_exporter": "python",
   "pygments_lexer": "ipython3",
   "version": "3.9.6"
  },
  "vscode": {
   "interpreter": {
    "hash": "31f2aee4e71d21fbe5cf8b01ff0e069b9275f58929596ceb00d14d90e3e16cd6"
   }
  }
 },
 "nbformat": 4,
 "nbformat_minor": 1
}
